{
 "cells": [
  {
   "cell_type": "code",
   "execution_count": 42,
   "id": "ef37e15c-d852-4dae-babe-e0adc1c6b1f3",
   "metadata": {
    "tags": []
   },
   "outputs": [
    {
     "name": "stdout",
     "output_type": "stream",
     "text": [
      "{'id': 1, 'name': 'suzuki', 'attribute': {'gender': 'male', 'phone_number': 'xxxxxxxxxxx', 'birth': '1991/01/01'}}\n"
     ]
    }
   ],
   "source": [
    "import json\n",
    "json_data = '{\"id\":1, \"name\":\"suzuki\", \"attribute\":{\"gender\":\"male\", \"phone_number\":\"xxxxxxxxxxx\", \"birth\":\"1991/01/01\"}}'\n",
    "jl = json.loads(json_data)\n",
    "print(jl)"
   ]
  },
  {
   "cell_type": "code",
   "execution_count": 40,
   "id": "aba10d96-f53c-444a-861c-d7d013eec1ba",
   "metadata": {
    "tags": []
   },
   "outputs": [
    {
     "name": "stdout",
     "output_type": "stream",
     "text": [
      "1\n",
      "suzuki\n",
      "male\n",
      "xxxxxxxxxxx\n",
      "1991/01/01\n"
     ]
    }
   ],
   "source": [
    "print(jl[\"id\"])\n",
    "print(jl[\"name\"])\n",
    "print(jl[\"attribute\"][\"gender\"])\n",
    "print(jl[\"attribute\"][\"phone_number\"])\n",
    "print(jl[\"attribute\"][\"birth\"])"
   ]
  },
  {
   "cell_type": "code",
   "execution_count": 36,
   "id": "2a916c59-d3f2-454e-b645-5bbc544151bf",
   "metadata": {
    "tags": []
   },
   "outputs": [
    {
     "name": "stdout",
     "output_type": "stream",
     "text": [
      "1\n"
     ]
    },
    {
     "ename": "TypeError",
     "evalue": "string indices must be integers, not 'str'",
     "output_type": "error",
     "traceback": [
      "\u001b[0;31m---------------------------------------------------------------------------\u001b[0m",
      "\u001b[0;31mTypeError\u001b[0m                                 Traceback (most recent call last)",
      "Cell \u001b[0;32mIn[36], line 13\u001b[0m\n\u001b[1;32m     11\u001b[0m \u001b[38;5;66;03m# dictではないためエラー\u001b[39;00m\n\u001b[1;32m     12\u001b[0m json_dict \u001b[38;5;241m=\u001b[39m json\u001b[38;5;241m.\u001b[39mloads(unexpect_json_str)\n\u001b[0;32m---> 13\u001b[0m \u001b[38;5;28mprint\u001b[39m(json_dict[\u001b[38;5;124m\"\u001b[39m\u001b[38;5;124mresult\u001b[39m\u001b[38;5;124m\"\u001b[39m][\u001b[38;5;124m\"\u001b[39m\u001b[38;5;124ma\u001b[39m\u001b[38;5;124m\"\u001b[39m])\n",
      "\u001b[0;31mTypeError\u001b[0m: string indices must be integers, not 'str'"
     ]
    }
   ],
   "source": [
    "import json\n",
    "expect_json = {\"result\":{\"a\":1}}\n",
    "expect_json_str = json.dumps(expect_json)\n",
    "unexpect_json = {\"result\":\"a\"}\n",
    "unexpect_json_str = json.dumps(unexpect_json)\n",
    " \n",
    "# key->\"a\"のvalue->1を参照\n",
    "json_dict = json.loads(expect_json_str)\n",
    "print(json_dict[\"result\"][\"a\"]) # 1\n",
    " \n",
    "# dictではないためエラー\n",
    "json_dict = json.loads(unexpect_json_str)\n",
    "print(json_dict[\"result\"][\"a\"]) # TypeError: string indices must be integers"
   ]
  },
  {
   "cell_type": "code",
   "execution_count": null,
   "id": "bb65df94-7dcb-40e6-b123-da52cd455bc4",
   "metadata": {},
   "outputs": [],
   "source": []
  }
 ],
 "metadata": {
  "kernelspec": {
   "display_name": "Python 3 (ipykernel)",
   "language": "python",
   "name": "python3"
  },
  "language_info": {
   "codemirror_mode": {
    "name": "ipython",
    "version": 3
   },
   "file_extension": ".py",
   "mimetype": "text/x-python",
   "name": "python",
   "nbconvert_exporter": "python",
   "pygments_lexer": "ipython3",
   "version": "3.11.5"
  }
 },
 "nbformat": 4,
 "nbformat_minor": 5
}
